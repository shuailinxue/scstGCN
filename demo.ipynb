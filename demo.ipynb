{
 "cells": [
  {
   "cell_type": "markdown",
   "source": [
    "# Demo on DLPFC tissue\n",
    "We use of section 151509 of the human dorsolateral prefrontal cortex (DLPFC) tissue as an example to show how to use srstGCN to obtain super-resolution gene expression profiles by weakly supervised GCN framework. srstGCN enhances gene expression to single-cell resolution and can also predict gene expression both outside the spots and in external tissue sections at the single-cell level. The 10X Visium data of section 151509 can be downloaded from"
   ],
   "metadata": {
    "collapsed": false
   }
  },
  {
   "cell_type": "markdown",
   "source": [
    "# Data preparation"
   ],
   "metadata": {
    "collapsed": false
   }
  },
  {
   "cell_type": "code",
   "execution_count": null,
   "metadata": {
    "collapsed": true
   },
   "outputs": [],
   "source": [
    "import align_ImageAndLoc\n",
    "import os\n",
    "prefix =f'{os.getcwd()}\\\\data\\\\'\n",
    "align_ImageAndLoc.main(prefix)"
   ]
  },
  {
   "cell_type": "markdown",
   "source": [
    "# Mutimodel feature map extraction"
   ],
   "metadata": {
    "collapsed": false
   }
  },
  {
   "cell_type": "code",
   "execution_count": null,
   "outputs": [],
   "source": [
    "from histological_feature_map import main as his_ex\n",
    "from pos_feature_map import main as pos_ex\n",
    "from RGB_feature_map import main as rgb_ex\n",
    "import pickle\n",
    "login = 'login'  # Please change to your applied UNI login\n",
    "img_emb = his_ex(prefix, login)\n",
    "rgb_emb = rgb_ex(prefix)\n",
    "pos_emb = pos_ex(prefix, img_emb)\n",
    "embs = dict(his=img_emb, rgb=rgb_emb, pos=pos_emb)\n",
    "with open(prefix + 'Multimodal_feature_map.pickle', 'wb') as file:\n",
    "    pickle.dump(embs, file)"
   ],
   "metadata": {
    "collapsed": false
   }
  },
  {
   "cell_type": "markdown",
   "source": [
    "# Select highly variable genes and generate mask image"
   ],
   "metadata": {
    "collapsed": false
   }
  },
  {
   "cell_type": "code",
   "execution_count": null,
   "outputs": [],
   "source": [
    "import get_mask\n",
    "from utils import get_HVG_genes\n",
    "get_mask.main(prefix)\n",
    "get_HVG_genes(prefix, n_top=1000)"
   ],
   "metadata": {
    "collapsed": false
   }
  },
  {
   "cell_type": "markdown",
   "source": [
    "# Inferring sing-cell resolution gene expression after the train process"
   ],
   "metadata": {
    "collapsed": false
   }
  },
  {
   "cell_type": "code",
   "execution_count": null,
   "outputs": [],
   "source": [
    "from impute import main as train_model\n",
    "train_model(prefix, epoch=500, device='cuda', n_states=5, load_saved=False)"
   ],
   "metadata": {
    "collapsed": false
   }
  }
 ],
 "metadata": {
  "kernelspec": {
   "display_name": "Python 3",
   "language": "python",
   "name": "python3"
  },
  "language_info": {
   "codemirror_mode": {
    "name": "ipython",
    "version": 2
   },
   "file_extension": ".py",
   "mimetype": "text/x-python",
   "name": "python",
   "nbconvert_exporter": "python",
   "pygments_lexer": "ipython2",
   "version": "2.7.6"
  }
 },
 "nbformat": 4,
 "nbformat_minor": 0
}
