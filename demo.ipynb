{
 "cells": [
  {
   "cell_type": "markdown",
   "source": [
    "# Demo on DLPFC tissue\n",
    "We use of section 151509 of the human dorsolateral prefrontal cortex (DLPFC) tissue as an example to show how to use srstGCN to obtain super-resolution gene expression profiles by weakly supervised GCN framework. srstGCN enhances gene expression to single-cell resolution and can also predict gene expression both outside the spots and in external tissue sections at the single-cell level. The 10X Visium data of section 151509 can be downloaded from [https://zenodo.org/records/12800375](https://zenodo.org/records/12800375)"
   ],
   "metadata": {
    "collapsed": false
   }
  },
  {
   "cell_type": "markdown",
   "source": [
    "# Data preparation"
   ],
   "metadata": {
    "collapsed": false
   }
  },
  {
   "cell_type": "code",
   "execution_count": 1,
   "metadata": {
    "collapsed": true,
    "ExecuteTime": {
     "end_time": "2024-10-15T08:58:43.285619300Z",
     "start_time": "2024-10-15T08:57:55.549619800Z"
    }
   },
   "outputs": [
    {
     "name": "stderr",
     "output_type": "stream",
     "text": [
      "C:\\Users\\DELL\\anaconda3\\envs\\pytorch\\Lib\\site-packages\\PIL\\Image.py:3157: DecompressionBombWarning: Image size (177742224 pixels) exceeds limit of 89478485 pixels, could be decompression bomb DOS attack.\n",
      "  warnings.warn(\n"
     ]
    }
   ],
   "source": [
    "import align_image_pos\n",
    "import os\n",
    "prefix =f'{os.getcwd()}\\\\data\\\\'\n",
    "align_image_pos.main(prefix)"
   ]
  },
  {
   "cell_type": "markdown",
   "source": [
    "# Mutimodel feature map extraction"
   ],
   "metadata": {
    "collapsed": false
   }
  },
  {
   "cell_type": "code",
   "execution_count": 2,
   "outputs": [
    {
     "name": "stdout",
     "output_type": "stream",
     "text": [
      "Token has not been saved to git credential helper. Pass `add_to_git_credential=True` if you want to set the git credential as well.\n",
      "Token is valid (permission: read).\n",
      "Your token has been saved to C:\\Users\\DELL\\.cache\\huggingface\\token\n",
      "Login successful\n",
      "The size of the histological image is:(19264, 19264, 3)\n"
     ]
    },
    {
     "name": "stderr",
     "output_type": "stream",
     "text": [
      "C:\\Users\\DELL\\anaconda3\\envs\\pytorch\\Lib\\site-packages\\timm\\models\\vision_transformer.py:92: UserWarning: 1Torch was not compiled with flash attention. (Triggered internally at ..\\aten\\src\\ATen\\native\\transformers\\cuda\\sdp_utils.cpp:263.)\n",
      "  x = F.scaled_dot_product_attention(\n"
     ]
    }
   ],
   "source": [
    "from histological_feature_map import main as his_ex\n",
    "from pos_feature_map import main as pos_ex\n",
    "from RGB_feature_map import main as rgb_ex\n",
    "import pickle\n",
    "login = 'login'  # Please change to your applied UNI login\n",
    "img_emb = his_ex(prefix, login)\n",
    "rgb_emb = rgb_ex(prefix)\n",
    "pos_emb = pos_ex(prefix, img_emb)\n",
    "embs = dict(his=img_emb, rgb=rgb_emb, pos=pos_emb)\n",
    "with open(prefix + 'Multimodal_feature_map.pickle', 'wb') as file:\n",
    "    pickle.dump(embs, file)"
   ],
   "metadata": {
    "collapsed": false,
    "ExecuteTime": {
     "end_time": "2024-10-15T09:01:58.024319200Z",
     "start_time": "2024-10-15T08:58:44.774145100Z"
    }
   }
  },
  {
   "cell_type": "markdown",
   "source": [
    "# Select highly variable genes and generate mask image"
   ],
   "metadata": {
    "collapsed": false
   }
  },
  {
   "cell_type": "code",
   "execution_count": 3,
   "outputs": [
    {
     "name": "stdout",
     "output_type": "stream",
     "text": [
      "Clustering pixels using km...\n",
      "(1373584, 1029)\n",
      "n_clusters: 2\n"
     ]
    }
   ],
   "source": [
    "import get_mask\n",
    "from utils import get_HVG_genes\n",
    "get_mask.main(prefix)\n",
    "get_HVG_genes(prefix, n_top=1000)"
   ],
   "metadata": {
    "collapsed": false,
    "ExecuteTime": {
     "end_time": "2024-10-15T09:04:13.892689600Z",
     "start_time": "2024-10-15T09:02:14.085935Z"
    }
   }
  },
  {
   "cell_type": "markdown",
   "source": [
    "# Inferring sing-cell resolution gene expression after the train process"
   ],
   "metadata": {
    "collapsed": false
   }
  },
  {
   "cell_type": "code",
   "execution_count": 4,
   "outputs": [
    {
     "name": "stdout",
     "output_type": "stream",
     "text": [
      "x: (1204, 1204, 1029) , y: (4789, 1000)\n"
     ]
    },
    {
     "name": "stderr",
     "output_type": "stream",
     "text": [
      "GPU available: True (cuda), used: True\n",
      "TPU available: False, using: 0 TPU cores\n",
      "IPU available: False, using: 0 IPUs\n",
      "HPU available: False, using: 0 HPUs\n",
      "You are using a CUDA device ('NVIDIA GeForce RTX 3090') that has Tensor Cores. To properly utilize them, you should set `torch.set_float32_matmul_precision('medium' | 'high')` which will trade-off precision for performance. For more details, read https://pytorch.org/docs/stable/generated/torch.set_float32_matmul_precision.html#torch.set_float32_matmul_precision\n",
      "LOCAL_RANK: 0 - CUDA_VISIBLE_DEVICES: [0]\n",
      "\n",
      "  | Name          | Type       | Params\n",
      "---------------------------------------------\n",
      "0 | GCN_module    | Sequential | 788 K \n",
      "1 | output_module | Linear     | 512 K \n",
      "---------------------------------------------\n",
      "1.3 M     Trainable params\n",
      "0         Non-trainable params\n",
      "1.3 M     Total params\n",
      "5.204     Total estimated model params size (MB)\n",
      "C:\\Users\\DELL\\anaconda3\\envs\\pytorch\\Lib\\site-packages\\pytorch_lightning\\trainer\\connectors\\data_connector.py:442: PossibleUserWarning: The dataloader, train_dataloader, does not have many workers which may be a bottleneck. Consider increasing the value of the `num_workers` argument` (try 24 which is the number of cpus on this machine) in the `DataLoader` init to improve performance.\n",
      "  rank_zero_warn(\n"
     ]
    },
    {
     "data": {
      "text/plain": "Training: 0it [00:00, ?it/s]",
      "application/vnd.jupyter.widget-view+json": {
       "version_major": 2,
       "version_minor": 0,
       "model_id": "5f63057d902a4558b71607e4ad721a4c"
      }
     },
     "metadata": {},
     "output_type": "display_data"
    },
    {
     "name": "stderr",
     "output_type": "stream",
     "text": [
      "`Trainer.fit` stopped: `max_epochs=500` reached.\n"
     ]
    },
    {
     "name": "stdout",
     "output_type": "stream",
     "text": [
      "218 sec\n",
      "Model saved to E:\\scstGCN-main\\data\\states/00/model.pt\n",
      "History saved to E:\\scstGCN-main\\data\\states/00/history.pickle\n",
      "E:\\scstGCN-main\\data\\states/00/history.png\n"
     ]
    },
    {
     "name": "stderr",
     "output_type": "stream",
     "text": [
      "E:\\scstGCN-main\\impute.py:147: UserWarning: Creating a tensor from a list of numpy.ndarrays is extremely slow. Please consider converting the list to a single numpy.ndarray with numpy.array() before converting to a tensor. (Triggered internally at ..\\torch\\csrc\\utils\\tensor_new.cpp:278.)\n",
      "  x = torch.tensor(x, device=model.device)\n"
     ]
    },
    {
     "name": "stdout",
     "output_type": "stream",
     "text": [
      "All genes have been saved in E:\\scstGCN-main\\data\\cnts-super/..\n"
     ]
    }
   ],
   "source": [
    "from impute import main as train_model\n",
    "# The default value of n_states is set to `5`\n",
    "train_model(prefix, epoch=500, device='cuda', n_states=1, load_saved=False)"
   ],
   "metadata": {
    "collapsed": false,
    "ExecuteTime": {
     "end_time": "2024-10-15T09:18:17.660277900Z",
     "start_time": "2024-10-15T09:04:15.311059200Z"
    }
   }
  }
 ],
 "metadata": {
  "kernelspec": {
   "display_name": "Python 3",
   "language": "python",
   "name": "python3"
  },
  "language_info": {
   "codemirror_mode": {
    "name": "ipython",
    "version": 2
   },
   "file_extension": ".py",
   "mimetype": "text/x-python",
   "name": "python",
   "nbconvert_exporter": "python",
   "pygments_lexer": "ipython2",
   "version": "2.7.6"
  }
 },
 "nbformat": 4,
 "nbformat_minor": 0
}
